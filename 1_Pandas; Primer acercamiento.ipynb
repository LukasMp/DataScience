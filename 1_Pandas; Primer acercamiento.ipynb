{
 "cells": [
  {
   "cell_type": "markdown",
   "id": "41439e4c",
   "metadata": {},
   "source": [
    "# Pandas "
   ]
  },
  {
   "cell_type": "markdown",
   "id": "4c2dbc3a",
   "metadata": {},
   "source": [
    "Pandas es una libreria de Python hecha como extensión de NumPY que nos permite la manipulacion y el análisis de datos, ofrenciendonos estructuras de datos y operaciones para manipular tablas numericas y series temporales."
   ]
  },
  {
   "cell_type": "markdown",
   "id": "cafb45df",
   "metadata": {},
   "source": [
    "Para comenzar a usar Pandas debemos de importar la liberia (Pandas) con la palabra reservada import. Generalmente se le da un alias a la liberia Pandas y se le llama pd, esto para tener una mayor agilidad y evitar tener que escribir el nombre completo por cada vez que queramos emplear la libreria y sus funciones a lo largo del codigo."
   ]
  },
  {
   "cell_type": "code",
   "execution_count": 2,
   "id": "34638914",
   "metadata": {},
   "outputs": [],
   "source": [
    "# Importamos la libreria y le datos el alias con la palabra \"as\" y seguido el nombre que le hara referencia\n",
    "import pandas as pd"
   ]
  },
  {
   "cell_type": "markdown",
   "id": "0837be9d",
   "metadata": {},
   "source": [
    "Dependiendo de la version de algo que empleemos es que vamos a poder realizar determinadas funciones y acciones, ya que constatemente (una libreria en este caso (Pandas)) se actualiza y añade/remueve determinadas cosas. Para poder saber que versión tenemos de Pandas podemos usar __version__:"
   ]
  },
  {
   "cell_type": "code",
   "execution_count": 4,
   "id": "983ddf63",
   "metadata": {},
   "outputs": [
    {
     "data": {
      "text/plain": [
       "'1.3.4'"
      ]
     },
     "execution_count": 4,
     "metadata": {},
     "output_type": "execute_result"
    }
   ],
   "source": [
    "pd.__version__"
   ]
  },
  {
   "cell_type": "markdown",
   "id": "550c74c1",
   "metadata": {},
   "source": [
    "# Nuestro primer acercamiento a Pandas"
   ]
  },
  {
   "cell_type": "markdown",
   "id": "e532aa0d",
   "metadata": {},
   "source": [
    "Como se mencionó al inicio, Pandas nos permite el análisis y manipulación de datos, y esto atraves de DataFrames. Los DataFrames son estructuras de datos, especificamente tablas que contienen filas y columnas. Los DataFrames nos permiten vizualizar los datos por ejemplo de un archivo, que para este ejemplo usaremos un archivo Excel con formato CSV (Comma Separated Values). Para poder leer el contenido del archivo y obtener el DataFrame del archivo que vamos a emplear, debemos de usar el metodo read_csv de Pandas:"
   ]
  },
  {
   "cell_type": "code",
   "execution_count": 5,
   "id": "78f9ec73",
   "metadata": {},
   "outputs": [],
   "source": [
    "# Primero importamos la libreria Pandas y le damos un alias bajo pd\n",
    "import pandas as pd"
   ]
  },
  {
   "cell_type": "code",
   "execution_count": 6,
   "id": "18d63e14",
   "metadata": {},
   "outputs": [],
   "source": [
    "# Definimos la variable que va a almacenar el DataFrame del archivo\n",
    "DataFrame_Excel = pd.read_csv(\"./dataframe.csv\")"
   ]
  },
  {
   "cell_type": "code",
   "execution_count": 7,
   "id": "124175f3",
   "metadata": {},
   "outputs": [
    {
     "data": {
      "text/html": [
       "<div>\n",
       "<style scoped>\n",
       "    .dataframe tbody tr th:only-of-type {\n",
       "        vertical-align: middle;\n",
       "    }\n",
       "\n",
       "    .dataframe tbody tr th {\n",
       "        vertical-align: top;\n",
       "    }\n",
       "\n",
       "    .dataframe thead th {\n",
       "        text-align: right;\n",
       "    }\n",
       "</style>\n",
       "<table border=\"1\" class=\"dataframe\">\n",
       "  <thead>\n",
       "    <tr style=\"text-align: right;\">\n",
       "      <th></th>\n",
       "      <th>Nombre</th>\n",
       "      <th>Edad</th>\n",
       "      <th>Pais</th>\n",
       "      <th>Automovil</th>\n",
       "    </tr>\n",
       "  </thead>\n",
       "  <tbody>\n",
       "    <tr>\n",
       "      <th>0</th>\n",
       "      <td>Juan</td>\n",
       "      <td>35</td>\n",
       "      <td>Mexico</td>\n",
       "      <td>No</td>\n",
       "    </tr>\n",
       "    <tr>\n",
       "      <th>1</th>\n",
       "      <td>Pedro</td>\n",
       "      <td>41</td>\n",
       "      <td>Honduras</td>\n",
       "      <td>Si</td>\n",
       "    </tr>\n",
       "    <tr>\n",
       "      <th>2</th>\n",
       "      <td>Maria</td>\n",
       "      <td>28</td>\n",
       "      <td>Peru</td>\n",
       "      <td>Si</td>\n",
       "    </tr>\n",
       "    <tr>\n",
       "      <th>3</th>\n",
       "      <td>Laura</td>\n",
       "      <td>66</td>\n",
       "      <td>Argentina</td>\n",
       "      <td>No</td>\n",
       "    </tr>\n",
       "  </tbody>\n",
       "</table>\n",
       "</div>"
      ],
      "text/plain": [
       "  Nombre  Edad       Pais Automovil\n",
       "0   Juan    35     Mexico        No\n",
       "1  Pedro    41   Honduras        Si\n",
       "2  Maria    28       Peru        Si\n",
       "3  Laura    66  Argentina        No"
      ]
     },
     "execution_count": 7,
     "metadata": {},
     "output_type": "execute_result"
    }
   ],
   "source": [
    "# Llamamos a la variable para que se muestre el DataFrame por pantalla (el nombre de la variable puede ser cualquiera)\n",
    "DataFrame_Excel"
   ]
  },
  {
   "cell_type": "markdown",
   "id": "3426e1f5",
   "metadata": {},
   "source": [
    "# <------------------------------------------------------------------------------------------------------->"
   ]
  },
  {
   "cell_type": "markdown",
   "id": "e5fecd92",
   "metadata": {},
   "source": [
    "# Trabajando con columnas de DataFrames"
   ]
  },
  {
   "cell_type": "markdown",
   "id": "0d284f9f",
   "metadata": {},
   "source": [
    "Muchas veces al analizar y manipular datos, tenemos que hacer esto con grandes volumenes de informacion, lo cual hace que el DataFrame sea muy extenso o que en determinados casos no sea nuestro objetivo el obtener dicho volumen de informacion de forma completa, si no, que lo queremos es poder filtrar por una determinada columna. Las columnas en este caso se denominan 'Series'. Esto lo podemos hacer utilizando el nombre o el titulo de la columna que se muestra en el DataFrame, tomaremos como referencia el mismo archivo Excel con Formato CSV."
   ]
  },
  {
   "cell_type": "code",
   "execution_count": 27,
   "id": "e8bcf9d9",
   "metadata": {},
   "outputs": [],
   "source": [
    "# Importamos la libreria de Pandas y le damos un alias como pd\n",
    "import pandas as pd"
   ]
  },
  {
   "cell_type": "code",
   "execution_count": 28,
   "id": "699de3b6",
   "metadata": {},
   "outputs": [],
   "source": [
    "# Definimos la variavble que va a almacenar el DataFrame del archivo\n",
    "DataFrame_Excel = pd.read_csv(\"./dataframe.csv\")"
   ]
  },
  {
   "cell_type": "code",
   "execution_count": 29,
   "id": "785e7325",
   "metadata": {},
   "outputs": [
    {
     "data": {
      "text/html": [
       "<div>\n",
       "<style scoped>\n",
       "    .dataframe tbody tr th:only-of-type {\n",
       "        vertical-align: middle;\n",
       "    }\n",
       "\n",
       "    .dataframe tbody tr th {\n",
       "        vertical-align: top;\n",
       "    }\n",
       "\n",
       "    .dataframe thead th {\n",
       "        text-align: right;\n",
       "    }\n",
       "</style>\n",
       "<table border=\"1\" class=\"dataframe\">\n",
       "  <thead>\n",
       "    <tr style=\"text-align: right;\">\n",
       "      <th></th>\n",
       "      <th>Nombre</th>\n",
       "      <th>Edad</th>\n",
       "      <th>Pais</th>\n",
       "      <th>Automovil</th>\n",
       "    </tr>\n",
       "  </thead>\n",
       "  <tbody>\n",
       "    <tr>\n",
       "      <th>0</th>\n",
       "      <td>Juan</td>\n",
       "      <td>35</td>\n",
       "      <td>Mexico</td>\n",
       "      <td>No</td>\n",
       "    </tr>\n",
       "    <tr>\n",
       "      <th>1</th>\n",
       "      <td>Pedro</td>\n",
       "      <td>41</td>\n",
       "      <td>Honduras</td>\n",
       "      <td>Si</td>\n",
       "    </tr>\n",
       "    <tr>\n",
       "      <th>2</th>\n",
       "      <td>Maria</td>\n",
       "      <td>28</td>\n",
       "      <td>Peru</td>\n",
       "      <td>Si</td>\n",
       "    </tr>\n",
       "    <tr>\n",
       "      <th>3</th>\n",
       "      <td>Laura</td>\n",
       "      <td>66</td>\n",
       "      <td>Argentina</td>\n",
       "      <td>No</td>\n",
       "    </tr>\n",
       "  </tbody>\n",
       "</table>\n",
       "</div>"
      ],
      "text/plain": [
       "  Nombre  Edad       Pais Automovil\n",
       "0   Juan    35     Mexico        No\n",
       "1  Pedro    41   Honduras        Si\n",
       "2  Maria    28       Peru        Si\n",
       "3  Laura    66  Argentina        No"
      ]
     },
     "execution_count": 29,
     "metadata": {},
     "output_type": "execute_result"
    }
   ],
   "source": [
    "# Llamamos a la variable para que se muestre el DataFrame por pantalla\n",
    "DataFrame_Excel"
   ]
  },
  {
   "cell_type": "markdown",
   "id": "fac11e46",
   "metadata": {},
   "source": [
    "Podemos observar que tenemos las columnas llamadas Nombre, Edad, Pais y Automovil, vamos a filtrar ahora para que se muestre solo los valores de Nombre y Pais. Podemos hacer esto como si se tratara de Slicing, entonces, lo haremos llamando a la variable que contiene el DataFrame y con corchetes vamos a definir que columnas son las que queremos obtener en base al titulo de las columnas que queremos obtener. Un punto importante es que si solo queremos obtener los valores de una columna vamos a usar un solo par de corchetes, mientras que si queremos obtener de 2 a mas valores de columnas debemos de encerrar todos los nombres entre corchetes y dentro de esos corchetes que engloban todo usaremos otros para ahora si escribir el titulo de cada Serie:"
   ]
  },
  {
   "cell_type": "code",
   "execution_count": 32,
   "id": "ae716423",
   "metadata": {},
   "outputs": [
    {
     "data": {
      "text/plain": [
       "0     Juan\n",
       "1    Pedro\n",
       "2    Maria\n",
       "3    Laura\n",
       "Name: Nombre, dtype: object"
      ]
     },
     "execution_count": 32,
     "metadata": {},
     "output_type": "execute_result"
    }
   ],
   "source": [
    "# Llamamos a la variable que contiene el DataFrame y le indicamos que solo queremos que se nos devuelva la columna que tenga \n",
    "# como titulo 'Nombre'\n",
    "DataFrame_Excel['Nombre']"
   ]
  },
  {
   "cell_type": "code",
   "execution_count": 33,
   "id": "ee891f7d",
   "metadata": {},
   "outputs": [
    {
     "data": {
      "text/html": [
       "<div>\n",
       "<style scoped>\n",
       "    .dataframe tbody tr th:only-of-type {\n",
       "        vertical-align: middle;\n",
       "    }\n",
       "\n",
       "    .dataframe tbody tr th {\n",
       "        vertical-align: top;\n",
       "    }\n",
       "\n",
       "    .dataframe thead th {\n",
       "        text-align: right;\n",
       "    }\n",
       "</style>\n",
       "<table border=\"1\" class=\"dataframe\">\n",
       "  <thead>\n",
       "    <tr style=\"text-align: right;\">\n",
       "      <th></th>\n",
       "      <th>Nombre</th>\n",
       "      <th>Pais</th>\n",
       "    </tr>\n",
       "  </thead>\n",
       "  <tbody>\n",
       "    <tr>\n",
       "      <th>0</th>\n",
       "      <td>Juan</td>\n",
       "      <td>Mexico</td>\n",
       "    </tr>\n",
       "    <tr>\n",
       "      <th>1</th>\n",
       "      <td>Pedro</td>\n",
       "      <td>Honduras</td>\n",
       "    </tr>\n",
       "    <tr>\n",
       "      <th>2</th>\n",
       "      <td>Maria</td>\n",
       "      <td>Peru</td>\n",
       "    </tr>\n",
       "    <tr>\n",
       "      <th>3</th>\n",
       "      <td>Laura</td>\n",
       "      <td>Argentina</td>\n",
       "    </tr>\n",
       "  </tbody>\n",
       "</table>\n",
       "</div>"
      ],
      "text/plain": [
       "  Nombre       Pais\n",
       "0   Juan     Mexico\n",
       "1  Pedro   Honduras\n",
       "2  Maria       Peru\n",
       "3  Laura  Argentina"
      ]
     },
     "execution_count": 33,
     "metadata": {},
     "output_type": "execute_result"
    }
   ],
   "source": [
    "# Llamamos a la variable que contiene el DataFrame y le indicamos que solo queremos que se nos devuelva la columna que tenga \n",
    "# como titulo 'Nombre' y 'Pais'\n",
    "DataFrame_Excel[['Nombre','Pais']]"
   ]
  },
  {
   "cell_type": "markdown",
   "id": "7eb92fa2",
   "metadata": {},
   "source": [
    "Otra forma por la cual podemos acceder a los valores de una serie es llamando directamente a la Serie, y se hace de la siguiente manera sin necesidad de corchetes:"
   ]
  },
  {
   "cell_type": "code",
   "execution_count": 36,
   "id": "4104278f",
   "metadata": {},
   "outputs": [
    {
     "data": {
      "text/plain": [
       "0     Juan\n",
       "1    Pedro\n",
       "2    Maria\n",
       "3    Laura\n",
       "Name: Nombre, dtype: object"
      ]
     },
     "execution_count": 36,
     "metadata": {},
     "output_type": "execute_result"
    }
   ],
   "source": [
    "DataFrame_Excel.Nombre"
   ]
  },
  {
   "cell_type": "markdown",
   "id": "9d7488e3",
   "metadata": {},
   "source": [
    "Para poder determinar con que se esta trabajando, es decir, ya sea determinar un DataFrame o una Serie, lo haremos con la funcion type que tiene Python:"
   ]
  },
  {
   "cell_type": "code",
   "execution_count": 39,
   "id": "1133ae18",
   "metadata": {},
   "outputs": [
    {
     "data": {
      "text/plain": [
       "pandas.core.frame.DataFrame"
      ]
     },
     "execution_count": 39,
     "metadata": {},
     "output_type": "execute_result"
    }
   ],
   "source": [
    "type(DataFrame_Excel)"
   ]
  },
  {
   "cell_type": "code",
   "execution_count": 40,
   "id": "94c174dd",
   "metadata": {},
   "outputs": [
    {
     "data": {
      "text/plain": [
       "pandas.core.series.Series"
      ]
     },
     "execution_count": 40,
     "metadata": {},
     "output_type": "execute_result"
    }
   ],
   "source": [
    "type(DataFrame_Excel.Pais)"
   ]
  },
  {
   "cell_type": "code",
   "execution_count": 43,
   "id": "606c9d6d",
   "metadata": {},
   "outputs": [
    {
     "data": {
      "text/plain": [
       "pandas.core.frame.DataFrame"
      ]
     },
     "execution_count": 43,
     "metadata": {},
     "output_type": "execute_result"
    }
   ],
   "source": [
    "# En base a esto podemos determinar que Serie es solo una columna, mientras que de 2 a mas ya se un DataFrame (un conjunto)\n",
    "type(DataFrame_Excel[['Nombre','Pais']])"
   ]
  },
  {
   "cell_type": "code",
   "execution_count": null,
   "id": "babb595b",
   "metadata": {},
   "outputs": [],
   "source": []
  }
 ],
 "metadata": {
  "kernelspec": {
   "display_name": "Python 3 (ipykernel)",
   "language": "python",
   "name": "python3"
  },
  "language_info": {
   "codemirror_mode": {
    "name": "ipython",
    "version": 3
   },
   "file_extension": ".py",
   "mimetype": "text/x-python",
   "name": "python",
   "nbconvert_exporter": "python",
   "pygments_lexer": "ipython3",
   "version": "3.9.7"
  }
 },
 "nbformat": 4,
 "nbformat_minor": 5
}
